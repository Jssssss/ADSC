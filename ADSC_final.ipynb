{
 "cells": [
  {
   "cell_type": "code",
   "execution_count": 1,
   "metadata": {},
   "outputs": [],
   "source": [
    "import requests\n",
    "from bs4 import BeautifulSoup\n",
    "\n",
    "import numpy as np\n",
    "import pandas as pd\n",
    "import re\n",
    "\n",
    "from geopy.geocoders import Nominatim\n",
    "from IPython.display import Image\n",
    "from IPython.core.display import HTML\n",
    "\n",
    "from pandas.io.json import json_normalize\n",
    "import folium\n",
    "\n",
    "import time"
   ]
  },
  {
   "cell_type": "markdown",
   "metadata": {},
   "source": [
    "## Setup FourSquare API\n"
   ]
  },
  {
   "cell_type": "code",
   "execution_count": 2,
   "metadata": {},
   "outputs": [],
   "source": [
    "CLIENT_ID = 'AM4LR5YZCRHYW4CLN1L0QQZLF014UPH2KI2E3L55DVDTRN2D'\n",
    "CLIENT_SECRET = 'RRPFF2VTPZI3PJ0EZFLWB3LYKQA02VQ5MUZHFEN2QLI05NOL'\n",
    "ACCESS_TOKEN = ''\n",
    "VERSION = '20210504'\n",
    "LIMIT = 50\n",
    "CODE = 'M101U03NXVBA4WWD3ZEIM4CMSV4CQ3FERO22212ESYX0N5XH#_=_'\n",
    "ACCESS_TOKEN = 'TKPU2YRS21T0FAB0B4551QNQ4YXKQCKSWWKVD4412RDW224T'"
   ]
  },
  {
   "cell_type": "markdown",
   "metadata": {},
   "source": [
    "## Get data from FourSquare API"
   ]
  },
  {
   "cell_type": "markdown",
   "metadata": {},
   "source": [
    "### Write a method to get data\n",
    "FourSquare API only allows to retrieve 50 most popular results per query. In order to retrieve all the stores across Toronto, we search by NEIGHBORHOOD using the coordinates obtained in previous assignment."
   ]
  },
  {
   "cell_type": "code",
   "execution_count": 3,
   "metadata": {},
   "outputs": [],
   "source": [
    "def foursquare(lat, lnt, search_query):\n",
    "    # set up the query params\n",
    "    radius = 30000 # set the radius to 30km\n",
    "    url = 'https://api.foursquare.com/v2/venues/search?client_id={}&client_secret={}&ll={},{}&oauth_token={}&v={}&query={}&radius={}&limit={}'.format(CLIENT_ID, CLIENT_SECRET, lat, lnt, ACCESS_TOKEN, VERSION, search_query, radius, LIMIT)\n",
    "\n",
    "    # request\n",
    "    rsp = requests.get(url)\n",
    "    rsp_code = rsp.status_code\n",
    "    print('{} at {}, {} response status code: {}'.format(search_query, lat, lnt, rsp_code))\n",
    "    \n",
    "    # extract results\n",
    "    if rsp_code == 200:\n",
    "        js = rsp.json()\n",
    "        venues = js['response']['venues']\n",
    "        df = json_normalize(venues)\n",
    "    \n",
    "        return df\n"
   ]
  },
  {
   "cell_type": "code",
   "execution_count": 4,
   "metadata": {},
   "outputs": [],
   "source": [
    "# get borough coors\n",
    "hoods = pd.read_csv('./trt_boroughs.csv')[['Neighborhood', 'Latitude', 'Longitude']]\n",
    "coors = zip(hoods.Latitude.values, hoods.Longitude.values)"
   ]
  },
  {
   "cell_type": "code",
   "execution_count": null,
   "metadata": {},
   "outputs": [
    {
     "name": "stdout",
     "output_type": "stream",
     "text": [
      "Tim Hortons at 43.7532586, -79.3296565 response status code: 200\n",
      "Tim Hortons at 43.7258823, -79.31557159999998 response status code: 200\n",
      "Tim Hortons at 43.6542599, -79.3606359 response status code: 200\n",
      "Tim Hortons at 43.718518, -79.46476329999999 response status code: 200\n",
      "Tim Hortons at 43.6623015, -79.3894938 response status code: 200\n",
      "Tim Hortons at 43.6678556, -79.53224240000002 response status code: 200\n",
      "Tim Hortons at 43.8066863, -79.19435340000003 response status code: 500\n",
      "Tim Hortons at 43.7459058, -79.352188 response status code: 200\n",
      "Tim Hortons at 43.7063972, -79.309937 response status code: 200\n",
      "Tim Hortons at 43.6571618, -79.37893709999999 response status code: 200\n",
      "Tim Hortons at 43.709577, -79.44507259999997 response status code: 200\n",
      "Tim Hortons at 43.6509432, -79.55472440000001 response status code: 200\n",
      "Tim Hortons at 43.7845351, -79.16049709999999 response status code: 200\n",
      "Tim Hortons at 43.72589970000001, -79.340923 response status code: 200\n",
      "Tim Hortons at 43.69534390000001, -79.3183887 response status code: 200\n",
      "Tim Hortons at 43.6514939, -79.3754179 response status code: 200\n",
      "Tim Hortons at 43.6937813, -79.42819140000002 response status code: 200\n",
      "Tim Hortons at 43.6435152, -79.57720079999999 response status code: 200\n",
      "Tim Hortons at 43.7635726, -79.1887115 response status code: 200\n",
      "Tim Hortons at 43.67635739999999, -79.2930312 response status code: 200\n",
      "Tim Hortons at 43.6447708, -79.3733064 response status code: 200\n",
      "Tim Hortons at 43.6890256, -79.453512 response status code: 200\n",
      "Tim Hortons at 43.7709921, -79.21691740000001 response status code: 500\n",
      "Tim Hortons at 43.7090604, -79.3634517 response status code: 200\n",
      "Tim Hortons at 43.6579524, -79.3873826 response status code: 200\n",
      "Tim Hortons at 43.669542, -79.4225637 response status code: 200\n",
      "Tim Hortons at 43.773136, -79.23947609999998 response status code: 200\n",
      "Tim Hortons at 43.8037622, -79.3634517 response status code: 200\n",
      "Tim Hortons at 43.7543283, -79.4422593 response status code: 200\n",
      "Tim Hortons at 43.7053689, -79.34937190000002 response status code: 200\n",
      "Tim Hortons at 43.65057120000001, -79.3845675 response status code: 200\n",
      "Tim Hortons at 43.66900510000001, -79.4422593 response status code: 200\n",
      "Tim Hortons at 43.7447342, -79.23947609999998 response status code: 200\n",
      "Tim Hortons at 43.7785175, -79.3465557 response status code: 200\n",
      "Tim Hortons at 43.7679803, -79.48726190000002 response status code: 200\n",
      "Tim Hortons at 43.685347, -79.3381065 response status code: 200\n",
      "Tim Hortons at 43.6408157, -79.38175229999997 response status code: 200\n",
      "Tim Hortons at 43.647926700000006, -79.4197497 response status code: 200\n",
      "Tim Hortons at 43.7279292, -79.26202940000002 response status code: 200\n",
      "Tim Hortons at 43.7869473, -79.385975 response status code: 500\n",
      "Tim Hortons at 43.7374732, -79.46476329999999 response status code: 200\n",
      "Tim Hortons at 43.6795571, -79.352188 response status code: 200\n",
      "Tim Hortons at 43.6471768, -79.38157640000001 response status code: 200\n",
      "Tim Hortons at 43.6368472, -79.42819140000002 response status code: 200\n",
      "Tim Hortons at 43.7111117, -79.2845772 response status code: 200\n",
      "Tim Hortons at 43.7574902, -79.37471409999998 response status code: 500\n",
      "Tim Hortons at 43.7390146, -79.5069436 response status code: 200\n",
      "Tim Hortons at 43.6689985, -79.31557159999998 response status code: 500\n",
      "Tim Hortons at 43.6481985, -79.37981690000002 response status code: 200\n",
      "Tim Hortons at 43.71375620000001, -79.4900738 response status code: 200\n",
      "Tim Hortons at 43.7563033, -79.56596329999998 response status code: 200\n",
      "Tim Hortons at 43.716316, -79.23947609999998 response status code: 200\n",
      "Tim Hortons at 43.789053, -79.40849279999998 response status code: 200\n",
      "Tim Hortons at 43.7284964, -79.49569740000003 response status code: 200\n",
      "Tim Hortons at 43.6595255, -79.340923 response status code: 200\n",
      "Tim Hortons at 43.7332825, -79.4197497 response status code: 200\n",
      "Tim Hortons at 43.6911158, -79.47601329999998 response status code: 200\n",
      "Tim Hortons at 43.7247659, -79.53224240000002 response status code: 200\n",
      "Tim Hortons at 43.692657, -79.2648481 response status code: 200\n",
      "Tim Hortons at 43.7701199, -79.40849279999998 response status code: 200\n",
      "Tim Hortons at 43.7616313, -79.52099940000002 response status code: 200\n",
      "Tim Hortons at 43.7280205, -79.3887901 response status code: 200\n",
      "Tim Hortons at 43.7116948, -79.41693559999999 response status code: 200\n",
      "Tim Hortons at 43.67318529999999, -79.48726190000002 response status code: 200\n",
      "Tim Hortons at 43.706876, -79.51818840000001 response status code: 200\n",
      "Tim Hortons at 43.7574096, -79.27330400000002 response status code: 200\n",
      "Tim Hortons at 43.7527583, -79.4000493 response status code: 200\n",
      "Tim Hortons at 43.7127511, -79.3901975 response status code: 200\n",
      "Tim Hortons at 43.6969476, -79.41130720000002 response status code: 200\n",
      "Tim Hortons at 43.6616083, -79.46476329999999 response status code: 200\n"
     ]
    }
   ],
   "source": [
    "# search Tim Hortons in all neighborhoods\n",
    "th = pd.DataFrame()\n",
    "\n",
    "for lat, lnt in coors:\n",
    "    try:\n",
    "        result = foursquare(lat, lnt, 'Tim Hortons')\n",
    "        th = pd.concat([th, result], ignore_index=True)\n",
    "        \n",
    "    except Exception as e:\n",
    "        print(e)\n",
    "        time.sleep(5)\n",
    "        try:\n",
    "            result = foursquare(lat, lnt, 'Tim Hortons')\n",
    "            th = pd.concat([th, result], ignore_index=True)\n",
    "        except Exception as e:\n",
    "            print('Another error: ' + e)\n",
    "            continue\n",
    "\n",
    "th.to_csv('./TimHortons.csv', index=False)"
   ]
  },
  {
   "cell_type": "code",
   "execution_count": null,
   "metadata": {},
   "outputs": [],
   "source": [
    "sc = pd.DataFrame()\n",
    "for lat, lnt in coors:\n",
    "    try:\n",
    "        result = foursquare(lat, lnt, 'Second Cup')\n",
    "        sc = pd.concat([sc, result], ignore_index=True)\n",
    "        \n",
    "    except Exception as e:\n",
    "        print(e)\n",
    "        time.sleep(5)\n",
    "        try:\n",
    "            result = foursquare(lat, lnt, 'Second Cup')\n",
    "            sc = pd.concat([sc, result], ignore_index=True)\n",
    "        except Exception as e:\n",
    "            print('Another error: ' + e)\n",
    "            continue"
   ]
  },
  {
   "cell_type": "code",
   "execution_count": null,
   "metadata": {},
   "outputs": [],
   "source": [
    "# amend missing values\n",
    "sc1 = foursquare(43.6678556, -79.53224240000002, 'Second Cup')\n",
    "sc2 = foursquare(43.68641229999999, -79.4000493, 'Second Cup')\n",
    "sc = pd.concat([sc, sc1, sc2], ignore_index=True)\n",
    "sc.to_csv('./SecondCup.csv', index=False)"
   ]
  },
  {
   "cell_type": "markdown",
   "metadata": {},
   "source": [
    "### Clean data\n",
    "Remove duplicates in the dfs"
   ]
  },
  {
   "cell_type": "code",
   "execution_count": null,
   "metadata": {},
   "outputs": [],
   "source": [
    "# define the 6 boroughs of Greater Toronto area\n",
    "boroughs = ['Etobicoke', 'North York', 'Scarborough', 'York', 'East York', 'Toronto']\n",
    "\n",
    "# import tim hortons results\n",
    "# th = pd.read_csv('./TimHortons.csv')\n",
    "\n",
    "# clean tim hortons results\n",
    "th = th[th['location.city'].isin(boroughs)] # select stores in greater toronto\n",
    "th.drop_duplicates(subset='id', inplace=True) # remove duplicates\n",
    "print(th.shape)\n",
    "th.head()"
   ]
  },
  {
   "cell_type": "code",
   "execution_count": null,
   "metadata": {},
   "outputs": [],
   "source": [
    "# clean second cup results\n",
    "sc = sc[sc['location.city'].isin(boroughs)]\n",
    "sc.drop_duplicates(subset='id', inplace=True)\n",
    "print(sc.shape)\n",
    "sc.head()"
   ]
  },
  {
   "cell_type": "markdown",
   "metadata": {},
   "source": [
    "### Draw map"
   ]
  },
  {
   "cell_type": "code",
   "execution_count": null,
   "metadata": {},
   "outputs": [],
   "source": [
    "# create map object\n",
    "mymap = folium.Map(location=[43.7181557, -79.5181405], zoom_start=11)\n",
    "\n",
    "\n",
    "# draw tim hortons first in red\n",
    "th_lats = th.iloc[:, 11].values\n",
    "th_lnts = th.iloc[:, 12].values\n",
    "for th_lat, th_lnt in zip(th_lats, th_lnts):\n",
    "    folium.CircleMarker([th_lat, th_lnt],\n",
    "                       radius=5,\n",
    "                       color='red').add_to(mymap)\n",
    "    \n",
    "# draw second cups in blue\n",
    "sc_lats = sc.iloc[:, 11].values\n",
    "sc_lnts = sc.iloc[:, 12].values\n",
    "for sc_lat, sc_lnt in zip(sc_lats, sc_lnts):\n",
    "    folium.CircleMarker([sc_lat, sc_lnt],\n",
    "                       radius=5,\n",
    "                       color='blue').add_to(mymap)\n",
    "    \n",
    "mymap"
   ]
  },
  {
   "cell_type": "code",
   "execution_count": null,
   "metadata": {},
   "outputs": [],
   "source": []
  }
 ],
 "metadata": {
  "kernelspec": {
   "display_name": "Python 3",
   "language": "python",
   "name": "python3"
  },
  "language_info": {
   "codemirror_mode": {
    "name": "ipython",
    "version": 3
   },
   "file_extension": ".py",
   "mimetype": "text/x-python",
   "name": "python",
   "nbconvert_exporter": "python",
   "pygments_lexer": "ipython3",
   "version": "3.7.0"
  },
  "varInspector": {
   "cols": {
    "lenName": 16,
    "lenType": 16,
    "lenVar": 40
   },
   "kernels_config": {
    "python": {
     "delete_cmd_postfix": "",
     "delete_cmd_prefix": "del ",
     "library": "var_list.py",
     "varRefreshCmd": "print(var_dic_list())"
    },
    "r": {
     "delete_cmd_postfix": ") ",
     "delete_cmd_prefix": "rm(",
     "library": "var_list.r",
     "varRefreshCmd": "cat(var_dic_list()) "
    }
   },
   "types_to_exclude": [
    "module",
    "function",
    "builtin_function_or_method",
    "instance",
    "_Feature"
   ],
   "window_display": false
  }
 },
 "nbformat": 4,
 "nbformat_minor": 2
}
